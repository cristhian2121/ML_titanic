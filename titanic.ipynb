{
 "cells": [
  {
   "cell_type": "code",
   "execution_count": 126,
   "metadata": {},
   "outputs": [],
   "source": [
    "import numpy as np\n",
    "import os.path\n",
    "import math\n",
    "\n",
    "import pandas as pd\n",
    "from pandas.core.frame import DataFrame\n",
    "\n",
    "# classificator\n",
    "from sklearn.linear_model import LogisticRegression\n",
    "from sklearn.neighbors import KNeighborsClassifier\n"
   ]
  },
  {
   "cell_type": "code",
   "execution_count": 127,
   "metadata": {},
   "outputs": [],
   "source": [
    "TARGETS = ['PassengerId', 'Pclass', 'Sex', 'Age', 'SibSp', 'Parch', 'Fare', 'Embarked']"
   ]
  },
  {
   "cell_type": "code",
   "execution_count": 201,
   "metadata": {
    "tags": []
   },
   "outputs": [],
   "source": [
    "def parserTypes(dataPd: DataFrame):\n",
    "    #print(dataPd.head(4))\n",
    "    size = len(dataPd)\n",
    "    for i in range(size):\n",
    "        if dataPd.loc[i,'Sex'] == 'female':\n",
    "            dataPd.loc[i,'Sex'] = 0\n",
    "        if dataPd.loc[i,'Sex'] == 'male':\n",
    "            dataPd.loc[i,'Sex'] = 1\n",
    "\n",
    "        if dataPd.loc[i,'Embarked'] == 'S':\n",
    "            dataPd.loc[i,'Embarked'] = 0\n",
    "        if dataPd.loc[i,'Embarked'] == 'C':\n",
    "            dataPd.loc[i,'Embarked'] = 1\n",
    "        if dataPd.loc[i,'Embarked'] != 'C' and dataPd.loc[i,'Embarked'] != 'S':\n",
    "            dataPd.loc[i,'Embarked'] = 2\n",
    "\n",
    "        if math.isnan(dataPd.loc[i, 'Age']):\n",
    "            dataPd.loc[i, 'Age'] = 0\n",
    "        \n",
    "        if math.isnan(dataPd.loc[i, 'Fare']):\n",
    "            dataPd.loc[i, 'Fare'] = 0\n",
    "    return dataPd\n",
    "        \n",
    "        \n",
    "def loadFile():\n",
    "    path = os.path.abspath('')\n",
    "    dataRawPd = pd.read_csv(f'{path}/train.csv')\n",
    "    survived = dataRawPd['Survived']\n",
    "    dataPd = dataRawPd[TARGETS]\n",
    "    return dataPd, survived\n",
    "\n",
    "def loadTestFile():\n",
    "    path = os.path.abspath('')\n",
    "    dataRawPd = pd.read_csv(f'{path}/test.csv')\n",
    "    results = pd.read_csv(f'{path}/gender_submission.csv')\n",
    "    dataPd = dataRawPd[TARGETS]\n",
    "    return dataPd, results"
   ]
  },
  {
   "cell_type": "code",
   "execution_count": 244,
   "metadata": {},
   "outputs": [
    {
     "output_type": "stream",
     "name": "stdout",
     "text": [
      "dataPd (891, 8)\ndataPd    PassengerId  Pclass Sex   Age  SibSp  Parch     Fare Embarked\n0            1       3   1  22.0      1      0   7.2500        2\n1            2       1   0  38.0      1      0  71.2833        2\n"
     ]
    }
   ],
   "source": [
    "# Train model\n",
    "rowDataPd, survivedPd = loadFile()\n",
    "dataPd = parserTypes(rowDataPd)\n",
    "# dataPd = dataPd.iloc[:, 1:] Remove colums and rows depends on\n",
    "print('dataPd', dataPd.shape)\n",
    "print('dataPd', dataPd.head(2))\n",
    "survived = survivedPd.to_numpy()\n",
    "data = dataPd.to_numpy()\n",
    "\n",
    "# Remove column passegerId\n",
    "data = np.delete(data, 0, 1)\n",
    "\n",
    "# pd.plotting.scatter_matrix(rowDataPd, c=survived, figsize=(15,15), market='o')\n",
    "n_neighbors = 5\n",
    "knn = KNeighborsClassifier(n_neighbors, weights='distance')\n",
    "knn.fit(data, survived)\n",
    "\n",
    "log = LogisticRegression(random_state=0, max_iter=1000).fit(data, survived)\n",
    "# knn.predict()\n",
    "\n"
   ]
  },
  {
   "cell_type": "code",
   "execution_count": 245,
   "metadata": {},
   "outputs": [
    {
     "output_type": "execute_result",
     "data": {
      "text/plain": [
       "(418,)"
      ]
     },
     "metadata": {},
     "execution_count": 245
    }
   ],
   "source": [
    "# load test\n",
    "rowDataTestPd, resultPd = loadTestFile()\n",
    "dataTestPd = parserTypes(rowDataTestPd)\n",
    "#print(dataTestPd[\"Age\"].describe())\n",
    "# print(dataTestPd[\"Age\"])\n",
    "dataTest = dataTestPd.to_numpy()\n",
    "result = resultPd.to_numpy()\n",
    "\n",
    "# Remove column passegerId and index for results\n",
    "dataTest = np.delete(dataTest, 0, 1)\n",
    "result = np.delete(result, 0, 1)\n",
    "\n",
    "# Validate NaN\n",
    "for item in dataTest:\n",
    "    # print(item[5])\n",
    "    if math.isnan(item[5]):\n",
    "        print(item)\n",
    "\n",
    "predict = knn.predict(dataTest)\n",
    "predictLog = log.predict(dataTest)\n",
    "predictLog.shape"
   ]
  },
  {
   "cell_type": "code",
   "execution_count": 246,
   "metadata": {},
   "outputs": [
    {
     "output_type": "execute_result",
     "data": {
      "text/plain": [
       "0.5332753371030883"
      ]
     },
     "metadata": {},
     "execution_count": 246
    }
   ],
   "source": [
    "# Validate predictions\n",
    "np.mean(predictLog == result)"
   ]
  }
 ],
 "metadata": {
  "kernelspec": {
   "name": "python376jvsc74a57bd0664561d1587a2dee3805c57fb88b2d67d8617b666a8157e362b252dacbda6ad4",
   "display_name": "Python 3.7.6 64-bit ('base': conda)"
  },
  "language_info": {
   "codemirror_mode": {
    "name": "ipython",
    "version": 3
   },
   "file_extension": ".py",
   "mimetype": "text/x-python",
   "name": "python",
   "nbconvert_exporter": "python",
   "pygments_lexer": "ipython3",
   "version": "3.7.6"
  },
  "metadata": {
   "interpreter": {
    "hash": "664561d1587a2dee3805c57fb88b2d67d8617b666a8157e362b252dacbda6ad4"
   }
  }
 },
 "nbformat": 4,
 "nbformat_minor": 2
}